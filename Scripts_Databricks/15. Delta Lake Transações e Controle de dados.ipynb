{
 "cells": [
  {
   "cell_type": "markdown",
   "metadata": {
    "application/vnd.databricks.v1+cell": {
     "cellMetadata": {},
     "inputWidgets": {},
     "nuid": "b6f7ad40-de70-40c2-988c-3d9f31153d43",
     "showTitle": false,
     "tableResultSettingsMap": {},
     "title": ""
    }
   },
   "source": [
    "######O que é Delta Lake?\n",
    "\n",
    "https://learn.microsoft.com/pt-br/azure/databricks/delta/\n",
    "\n",
    "Referencia ACID\n",
    "\n",
    "https://learn.microsoft.com/pt-br/azure/databricks/lakehouse/acid \n",
    "\n",
    "Referencia SQL\n",
    "\n",
    "https://learn.microsoft.com/pt-br/azure/databricks/sql/language-manual/\n",
    "\n",
    "https://learn.microsoft.com/pt-br/azure/databricks/delta/tutorial\n",
    "\n",
    "Referencia Dataflame\n",
    "\n",
    "https://docs.delta.io/latest/api/python/index.html\n",
    "\n",
    "Lakehouse\n",
    "\n",
    "https://www.databricks.com/br/blog/2020/01/30/what-is-a-data-lakehouse.html\n"
   ]
  },
  {
   "cell_type": "code",
   "execution_count": 0,
   "metadata": {
    "application/vnd.databricks.v1+cell": {
     "cellMetadata": {
      "byteLimit": 2048000,
      "rowLimit": 10000
     },
     "inputWidgets": {},
     "nuid": "2f55f198-45c3-4e62-b9cf-18334967ee20",
     "showTitle": false,
     "tableResultSettingsMap": {},
     "title": ""
    }
   },
   "outputs": [],
   "source": [
    "# Resumo de benefícios do Delta Lake \n",
    "\"\"\"\n",
    "Delta Lake : é a camada de armazenamento otimizada que fornece a base para armazenar dados e tabelas na Plataforma Databricks Lakehouse\n",
    "\n",
    "Lakehouse  : é o ambiente onde fica armazenado arquivos\\tabelas  no formato Delta\n",
    "\n",
    "Diferença básica de Delta lake e D'ata lake :\n",
    "\n",
    "Transações ACID:significa atomicidade, consistência, isolamento e durabilidade.\n",
    "Atomicidade: significa que todas as transações têm êxito ou falham completamente.\n",
    "Consistência: estão relacionadas a como um determinado estado dos dados é observado por operações simultâneas.\n",
    "Isolamento: se refere a como as operações simultâneas podem entrar em conflito entre si.\n",
    "Durabilidade: significa que as alterações confirmadas são permanentes.\n",
    "\n",
    "\n",
    "Benefícios:\n",
    "Armazenamento otimizado: O Delta Lake é o software de código aberto que estende arquivos de dados Parquet com log e extramamente eficiente e compactado\n",
    "\n",
    "Segurança e controle do fluxo de dados e reculperação se nescessário \n",
    "\n",
    "Versionamento dos dados: \n",
    "Cada gravação em uma tabela Delta cria uma versão da tabela. Você pode usar o log de transações para examinar modificações em sua tabela e consultar versões anteriores Você pode recuperar informações de operações, usuário, carimbo de data/hora e assim por diante relativas a cada gravação em uma tabela do Delta por meio do comando history. As operações são retornadas em ordem cronológica inversa.\n",
    "A retenção do histórico de tabelas é determinada pela configuração da tabela delta.logRetentionDuration, que é de 30 dias por padrão.\n",
    "\n",
    "Exemplo de data lake\n",
    "https://www.databricks.com/br/glossary/data-lakehouse\n",
    "\n",
    "\n",
    "\n",
    "\"\"\""
   ]
  },
  {
   "cell_type": "code",
   "execution_count": 0,
   "metadata": {
    "application/vnd.databricks.v1+cell": {
     "cellMetadata": {
      "byteLimit": 2048000,
      "rowLimit": 10000
     },
     "inputWidgets": {},
     "nuid": "43cf2058-144e-421c-b237-280e6e1bd623",
     "showTitle": false,
     "tableResultSettingsMap": {},
     "title": ""
    }
   },
   "outputs": [],
   "source": [
    "#Salvando em tabela Delta simples para verificar os logs de transações \n",
    "spark.read.json(\"dbfs:/FileStore/tables/Anac/V_OCORRENCIA_AMPLA.json\") \\\n",
    "    .write.format(\"delta\")\\\n",
    "    .mode(\"overwrite\")\\\n",
    "    .saveAsTable(\"anac\")\n"
   ]
  },
  {
   "cell_type": "code",
   "execution_count": 0,
   "metadata": {
    "application/vnd.databricks.v1+cell": {
     "cellMetadata": {
      "byteLimit": 2048000,
      "implicitDf": true,
      "rowLimit": 10000
     },
     "inputWidgets": {},
     "nuid": "8d6e2690-a96f-46dc-a797-81c623f5f0f3",
     "showTitle": false,
     "tableResultSettingsMap": {},
     "title": ""
    }
   },
   "outputs": [],
   "source": [
    "%sql\n",
    "select * from anac\n",
    "\n"
   ]
  },
  {
   "cell_type": "code",
   "execution_count": 0,
   "metadata": {
    "application/vnd.databricks.v1+cell": {
     "cellMetadata": {
      "byteLimit": 2048000,
      "implicitDf": true,
      "rowLimit": 10000
     },
     "inputWidgets": {},
     "nuid": "47f560ac-5cbc-4301-ae2c-f28a573dc6b4",
     "showTitle": false,
     "tableResultSettingsMap": {},
     "title": ""
    }
   },
   "outputs": [],
   "source": [
    "%sql \n",
    "delete from anac\n",
    "where Aerodromo_de_Origem is null"
   ]
  },
  {
   "cell_type": "code",
   "execution_count": 0,
   "metadata": {
    "application/vnd.databricks.v1+cell": {
     "cellMetadata": {
      "byteLimit": 2048000,
      "implicitDf": true,
      "rowLimit": 10000
     },
     "inputWidgets": {},
     "nuid": "c0befea8-4d95-423c-abce-5340e0905b96",
     "showTitle": false,
     "tableResultSettingsMap": {},
     "title": ""
    }
   },
   "outputs": [],
   "source": [
    "%sql \n",
    "delete from anac\n",
    "where UF = \"MG\""
   ]
  },
  {
   "cell_type": "code",
   "execution_count": 0,
   "metadata": {
    "application/vnd.databricks.v1+cell": {
     "cellMetadata": {
      "byteLimit": 2048000,
      "implicitDf": true,
      "rowLimit": 10000
     },
     "inputWidgets": {},
     "nuid": "36b7df14-5cac-4085-ac4a-16e7b7a688ea",
     "showTitle": false,
     "tableResultSettingsMap": {},
     "title": ""
    }
   },
   "outputs": [],
   "source": [
    "%sql \n",
    "-- testando os delets\n",
    "select * from anac\n",
    "where UF = \"SP\"\n"
   ]
  },
  {
   "cell_type": "markdown",
   "metadata": {
    "application/vnd.databricks.v1+cell": {
     "cellMetadata": {},
     "inputWidgets": {},
     "nuid": "6a5c657b-5bb9-436c-b86b-f4c5b35264ad",
     "showTitle": false,
     "tableResultSettingsMap": {},
     "title": ""
    }
   },
   "source": [
    "######Versionamento, verificando e recuperando dados \n",
    "\n",
    "Obs : A retenção do histórico de tabelas é determinada pela configuração da tabela delta.logRetentionDuration, que é de 30 dias por padrão\n",
    "https://learn.microsoft.com/pt-br/azure/databricks/delta/history"
   ]
  },
  {
   "cell_type": "code",
   "execution_count": 0,
   "metadata": {
    "application/vnd.databricks.v1+cell": {
     "cellMetadata": {
      "byteLimit": 2048000,
      "implicitDf": true,
      "rowLimit": 10000
     },
     "inputWidgets": {},
     "nuid": "5002ea02-618a-4806-980b-ae8380017b61",
     "showTitle": false,
     "tableResultSettingsMap": {},
     "title": ""
    }
   },
   "outputs": [],
   "source": [
    "%sql\n",
    "-- Ver logs transacionais\n",
    "DESCRIBE HISTORY  anac "
   ]
  },
  {
   "cell_type": "code",
   "execution_count": 0,
   "metadata": {
    "application/vnd.databricks.v1+cell": {
     "cellMetadata": {
      "byteLimit": 2048000,
      "implicitDf": true,
      "rowLimit": 10000
     },
     "inputWidgets": {},
     "nuid": "cc20ed32-63d9-4fb8-9a48-8bb9455d7e13",
     "showTitle": false,
     "tableResultSettingsMap": {},
     "title": ""
    }
   },
   "outputs": [],
   "source": [
    "%sql\n",
    "-- Ver logs transacionais  pelo caminho hive\n",
    "DESCRIBE HISTORY  '/user/hive/warehouse/anac'"
   ]
  },
  {
   "cell_type": "code",
   "execution_count": 0,
   "metadata": {
    "application/vnd.databricks.v1+cell": {
     "cellMetadata": {
      "byteLimit": 2048000,
      "implicitDf": true,
      "rowLimit": 10000
     },
     "inputWidgets": {},
     "nuid": "b322faf6-89f0-4cb1-b123-8160d6a58988",
     "showTitle": false,
     "tableResultSettingsMap": {},
     "title": ""
    }
   },
   "outputs": [],
   "source": [
    "%sql\n",
    "-- Ver detalhes da estrutura Delta\n",
    "DESCRIBE DETAIL  '/user/hive/warehouse/anac'"
   ]
  },
  {
   "cell_type": "code",
   "execution_count": 0,
   "metadata": {
    "application/vnd.databricks.v1+cell": {
     "cellMetadata": {
      "byteLimit": 2048000,
      "implicitDf": true,
      "rowLimit": 10000
     },
     "inputWidgets": {},
     "nuid": "ddab3d19-5652-4869-9f37-3452b3f6adf2",
     "showTitle": false,
     "tableResultSettingsMap": {},
     "title": ""
    }
   },
   "outputs": [],
   "source": [
    "%sql \n",
    "--Vendo versao de log na prática \n",
    "select * from anac VERSION AS OF 1\n"
   ]
  },
  {
   "cell_type": "code",
   "execution_count": 0,
   "metadata": {
    "application/vnd.databricks.v1+cell": {
     "cellMetadata": {
      "byteLimit": 2048000,
      "implicitDf": true,
      "rowLimit": 10000
     },
     "inputWidgets": {},
     "nuid": "746a742a-9e93-4bdf-962b-ce089c9562dc",
     "showTitle": false,
     "tableResultSettingsMap": {},
     "title": ""
    }
   },
   "outputs": [],
   "source": [
    "%sql\n",
    "--pode passar tambem o caminho Hive o que preferir  obs from dever ser delta.`Caminhohive`\n",
    "select * from delta.`/user/hive/warehouse/anac`  VERSION AS OF 1"
   ]
  },
  {
   "cell_type": "code",
   "execution_count": 0,
   "metadata": {
    "application/vnd.databricks.v1+cell": {
     "cellMetadata": {
      "byteLimit": 2048000,
      "implicitDf": true,
      "rowLimit": 10000
     },
     "inputWidgets": {},
     "nuid": "25672b0b-1bc8-49fc-ad25-c3021aae33d9",
     "showTitle": false,
     "tableResultSettingsMap": {},
     "title": ""
    }
   },
   "outputs": [],
   "source": [
    "%sql\n",
    "--- restaurando uma versao (fazer consulta antes de restaurar para ver funcionando na prática )\n",
    "select * from anac where UF = \"MG\"\n",
    "--RESTORE TABLE anac TO VERSION AS OF 1\n",
    " "
   ]
  },
  {
   "cell_type": "code",
   "execution_count": 0,
   "metadata": {
    "application/vnd.databricks.v1+cell": {
     "cellMetadata": {
      "byteLimit": 2048000,
      "rowLimit": 10000
     },
     "inputWidgets": {},
     "nuid": "5be8dbe2-9cb1-4e65-9a3c-8b41460a124b",
     "showTitle": false,
     "tableResultSettingsMap": {},
     "title": ""
    }
   },
   "outputs": [],
   "source": [
    "#Salvando em modo particionado \n",
    "#Obs: particionar o que realmente for nescessárrio para otimizar a consulta\n",
    "spark.read.json(\"dbfs:/FileStore/tables/Anac/V_OCORRENCIA_AMPLA.json\") \\\n",
    "    .write.format(\"delta\")\\\n",
    "    .partitionBy(\"UF\") \\\n",
    "    .mode(\"overwrite\")\\\n",
    "    .saveAsTable(\"anac_particionado\")"
   ]
  },
  {
   "cell_type": "code",
   "execution_count": 0,
   "metadata": {
    "application/vnd.databricks.v1+cell": {
     "cellMetadata": {
      "byteLimit": 2048000,
      "implicitDf": true,
      "rowLimit": 10000
     },
     "inputWidgets": {},
     "nuid": "18915d0e-d30e-4908-a4b2-b6453fae71ce",
     "showTitle": false,
     "tableResultSettingsMap": {},
     "title": ""
    }
   },
   "outputs": [],
   "source": [
    "%sql \n",
    "select * from anac_particionado"
   ]
  },
  {
   "cell_type": "code",
   "execution_count": 0,
   "metadata": {
    "application/vnd.databricks.v1+cell": {
     "cellMetadata": {
      "byteLimit": 2048000,
      "implicitDf": true,
      "rowLimit": 10000
     },
     "inputWidgets": {},
     "nuid": "aca7dd65-f112-4782-9aa4-9c32e1754926",
     "showTitle": false,
     "tableResultSettingsMap": {},
     "title": ""
    }
   },
   "outputs": [],
   "source": [
    "%sql \n",
    "select * from anac_particionado\n",
    "where UF = \"MG\""
   ]
  },
  {
   "cell_type": "code",
   "execution_count": 0,
   "metadata": {
    "application/vnd.databricks.v1+cell": {
     "cellMetadata": {
      "byteLimit": 2048000,
      "implicitDf": true,
      "rowLimit": 10000
     },
     "inputWidgets": {},
     "nuid": "1f182005-658d-43f4-8645-8fc4f077e97b",
     "showTitle": false,
     "tableResultSettingsMap": {},
     "title": ""
    }
   },
   "outputs": [],
   "source": [
    "%sql \n",
    "delete from  anac_particionado\n",
    "where Aerodromo_de_Destino = 'SBMK' "
   ]
  },
  {
   "cell_type": "code",
   "execution_count": 0,
   "metadata": {
    "application/vnd.databricks.v1+cell": {
     "cellMetadata": {
      "byteLimit": 2048000,
      "implicitDf": true,
      "rowLimit": 10000
     },
     "inputWidgets": {},
     "nuid": "7b2c490c-dafb-418c-a1dc-fe628689b54b",
     "showTitle": false,
     "tableResultSettingsMap": {},
     "title": ""
    }
   },
   "outputs": [],
   "source": [
    "%sql \n",
    "describe history anac_particionado"
   ]
  },
  {
   "cell_type": "markdown",
   "metadata": {
    "application/vnd.databricks.v1+cell": {
     "cellMetadata": {},
     "inputWidgets": {},
     "nuid": "55888a9d-76e4-4eb4-adeb-6f5d5a03da08",
     "showTitle": false,
     "tableResultSettingsMap": {},
     "title": ""
    }
   },
   "source": [
    "######Otimizando Consulta \n",
    "https://learn.microsoft.com/pt-br/azure/databricks/delta/tutorial\n",
    "\n",
    "https://learn.microsoft.com/pt-br/azure/databricks/delta/optimize\n",
    "\n",
    "https://learn.microsoft.com/pt-br/azure/databricks/delta/vacuum"
   ]
  },
  {
   "cell_type": "code",
   "execution_count": 0,
   "metadata": {
    "application/vnd.databricks.v1+cell": {
     "cellMetadata": {
      "byteLimit": 2048000,
      "rowLimit": 10000
     },
     "inputWidgets": {},
     "nuid": "f167fe4a-46c1-4462-b21e-6b42f85e9644",
     "showTitle": false,
     "tableResultSettingsMap": {},
     "title": ""
    }
   },
   "outputs": [],
   "source": [
    "spark.read.json(\"dbfs:/FileStore/tables/Anac/V_OCORRENCIA_AMPLA.json\") \\\n",
    "    .write.mode(\"overwrite\")\\\n",
    "    .saveAsTable(\"anac_normal\")"
   ]
  },
  {
   "cell_type": "code",
   "execution_count": 0,
   "metadata": {
    "application/vnd.databricks.v1+cell": {
     "cellMetadata": {
      "byteLimit": 2048000,
      "implicitDf": true,
      "rowLimit": 10000
     },
     "inputWidgets": {},
     "nuid": "a4661db1-657a-44a4-a542-78a78bb5103a",
     "showTitle": false,
     "tableResultSettingsMap": {},
     "title": ""
    }
   },
   "outputs": [],
   "source": [
    "%sql\n",
    "select\n",
    "replace(Aerodromo_de_Origem,\"Sem Origem\") as Origem,\n",
    "Fase_da_Operacao,\n",
    "Danos_a_Aeronave,\n",
    "Municipio,\n",
    "UF as Estado,\n",
    "Operacao,\n",
    "Regiao,\n",
    "count(Matricula)  as quantidade\n",
    " from anac_normal\n",
    " group by 1,2,3,4,5,6,7\n",
    " having Origem is not null\n",
    " and Danos_a_Aeronave = 'Nenhum'\n",
    "\n",
    " order by 1,2"
   ]
  },
  {
   "cell_type": "markdown",
   "metadata": {
    "application/vnd.databricks.v1+cell": {
     "cellMetadata": {},
     "inputWidgets": {},
     "nuid": "92eb181b-ea7d-43bf-9724-c030611b35cc",
     "showTitle": false,
     "tableResultSettingsMap": {},
     "title": ""
    }
   },
   "source": [
    "###### Formato Otimizado"
   ]
  },
  {
   "cell_type": "code",
   "execution_count": 0,
   "metadata": {
    "application/vnd.databricks.v1+cell": {
     "cellMetadata": {
      "byteLimit": 2048000,
      "rowLimit": 10000
     },
     "inputWidgets": {},
     "nuid": "a20a7aed-23f6-422b-9bd7-b28c58c38d12",
     "showTitle": false,
     "tableResultSettingsMap": {},
     "title": ""
    }
   },
   "outputs": [],
   "source": [
    "#salvando no formato delta \n",
    "spark.read.json(\"dbfs:/FileStore/tables/Anac/V_OCORRENCIA_AMPLA.json\") \\\n",
    "    .write.format(\"delta\") \\\n",
    "    .partitionBy(\"Danos_a_Aeronave\") \\\n",
    "    .mode(\"overwrite\") \\\n",
    "    .saveAsTable(\"anac_delta_novo\")\n"
   ]
  },
  {
   "cell_type": "code",
   "execution_count": 0,
   "metadata": {
    "application/vnd.databricks.v1+cell": {
     "cellMetadata": {},
     "inputWidgets": {},
     "nuid": "fd1625fe-870c-4c22-bc3b-0da9beea7453",
     "showTitle": false,
     "tableResultSettingsMap": {},
     "title": ""
    }
   },
   "outputs": [],
   "source": [
    "\"\"\"\n",
    "OPTIMIZE nometbela  \n",
    "ZORDER BY (nomecolunaordernar) obs : cria tipo um indice  nas colunas   pode ser mais de 1\n",
    "\"\"\"'"
   ]
  },
  {
   "cell_type": "code",
   "execution_count": 0,
   "metadata": {
    "application/vnd.databricks.v1+cell": {
     "cellMetadata": {
      "byteLimit": 2048000,
      "implicitDf": true,
      "rowLimit": 10000
     },
     "inputWidgets": {},
     "nuid": "04bab7bf-c6bd-4842-885d-6fdf14d9ec0d",
     "showTitle": false,
     "tableResultSettingsMap": {},
     "title": ""
    }
   },
   "outputs": [],
   "source": [
    "%sql\n",
    "select\n",
    "replace(Aerodromo_de_Origem,\"Sem Origem\") as Origem,\n",
    "Fase_da_Operacao,\n",
    "Danos_a_Aeronave,\n",
    "Municipio,\n",
    "UF as Estado,\n",
    "Operacao,\n",
    "Regiao,\n",
    "count(Matricula)  as quantidade\n",
    " from anac_delta_novo\n",
    " group by 1,2,3,4,5,6,7\n",
    " having Origem is not null\n",
    " and Danos_a_Aeronave = 'Nenhum'\n",
    "\n",
    " order by 1,2"
   ]
  }
 ],
 "metadata": {
  "application/vnd.databricks.v1+notebook": {
   "computePreferences": null,
   "dashboards": [],
   "environmentMetadata": null,
   "inputWidgetPreferences": null,
   "language": "python",
   "notebookMetadata": {
    "mostRecentlyExecutedCommandWithImplicitDF": {
     "commandId": 1596246483877818,
     "dataframes": [
      "_sqldf"
     ]
    },
    "pythonIndentUnit": 4
   },
   "notebookName": "15. Delta Lake Transações e Controle de dados",
   "widgets": {}
  }
 },
 "nbformat": 4,
 "nbformat_minor": 0
}