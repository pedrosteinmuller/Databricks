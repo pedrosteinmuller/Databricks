{
 "cells": [
  {
   "cell_type": "markdown",
   "metadata": {
    "application/vnd.databricks.v1+cell": {
     "cellMetadata": {},
     "inputWidgets": {},
     "nuid": "47aa8374-6d42-46ce-a28c-97a0e488a3f0",
     "showTitle": false,
     "tableResultSettingsMap": {},
     "title": ""
    }
   },
   "source": [
    "###### Apagando dados nulos \n",
    "https://spark.apache.org/docs/3.1.2/api/python/reference/api/pyspark.sql.DataFrame.dropna.html"
   ]
  },
  {
   "cell_type": "code",
   "execution_count": 0,
   "metadata": {
    "application/vnd.databricks.v1+cell": {
     "cellMetadata": {},
     "inputWidgets": {},
     "nuid": "92b9655c-d127-49a2-bc6a-61755ed42989",
     "showTitle": false,
     "tableResultSettingsMap": {},
     "title": ""
    }
   },
   "outputs": [],
   "source": [
    "\"\"\"\n",
    "DataFrame.dropna(how='any', thresh=None, subset=None)\n",
    "\n",
    "dropna(): se usar assim sem critérios ele apaga todas a linhas se em alguma delas tiver dados nulos\n",
    "obs: tenho 40 colunas e em qalquer 1 das colunas eu tiver dados nulos ele vai apagar toda a linha mesmo que as outras colunas nao tenha dado nulos\n",
    "\n",
    "how:\n",
    "how='any' significa que uma linha será removida se ela contiver pelo menos um valor nulo em qualquer uma de suas colunas.\n",
    "how='all' significa que uma linha será removida somente se todos os seus valores forem nulos.\n",
    "\n",
    "thresh:\n",
    "a linha será mantida se ela tiver pelo menos x valores não nulos\n",
    "Por exemplo, se thresh=2, a linha mantida se ela tiver pelo menos 2 valores não nulos. Se tiver menos de 2 valores não nulos, a linha será removida.\n",
    "\n",
    "\n",
    "subset:\n",
    "Se especificado, o método dropna() remove as linhas que contêm valores nulos apenas nas colunas listadas em subset.\n",
    "Por exemplo, se subset=['coluna1', 'coluna2'], uma linha será removida se tiver valores nulos apenas em 'coluna1' e 'coluna2', enquanto outros valores nulos em diferentes colunas não afetarão a remoção.\n",
    "\n",
    "\"\"\""
   ]
  },
  {
   "cell_type": "code",
   "execution_count": 0,
   "metadata": {
    "application/vnd.databricks.v1+cell": {
     "cellMetadata": {
      "byteLimit": 2048000,
      "rowLimit": 10000
     },
     "inputWidgets": {},
     "nuid": "e8a5d326-fe3c-480d-aa31-6c9e0c87ef6e",
     "showTitle": false,
     "tableResultSettingsMap": {},
     "title": ""
    }
   },
   "outputs": [],
   "source": [
    "df = spark.read.json(\"dbfs:/FileStore/tables/Anac/V_OCORRENCIA_AMPLA.json\")\n",
    "display(df)"
   ]
  },
  {
   "cell_type": "code",
   "execution_count": 0,
   "metadata": {
    "application/vnd.databricks.v1+cell": {
     "cellMetadata": {
      "byteLimit": 2048000,
      "rowLimit": 10000
     },
     "inputWidgets": {},
     "nuid": "25e4b652-c8b3-467e-86c0-f39157943bf8",
     "showTitle": false,
     "tableResultSettingsMap": {},
     "title": ""
    }
   },
   "outputs": [],
   "source": [
    "#salvando em um novo df\n",
    "sem_nulo = df.dropna()\n",
    "display(sem_nulo)"
   ]
  },
  {
   "cell_type": "markdown",
   "metadata": {
    "application/vnd.databricks.v1+cell": {
     "cellMetadata": {},
     "inputWidgets": {},
     "nuid": "909c0d73-b8f5-4777-968d-3721f3838ca5",
     "showTitle": false,
     "tableResultSettingsMap": {},
     "title": ""
    }
   },
   "source": [
    "###### Usando parametros"
   ]
  },
  {
   "cell_type": "code",
   "execution_count": 0,
   "metadata": {
    "application/vnd.databricks.v1+cell": {
     "cellMetadata": {
      "byteLimit": 2048000,
      "rowLimit": 10000
     },
     "inputWidgets": {},
     "nuid": "983f9d91-b6ce-450a-8448-70e89b80efb6",
     "showTitle": false,
     "tableResultSettingsMap": {},
     "title": ""
    }
   },
   "outputs": [],
   "source": [
    "display(df)"
   ]
  },
  {
   "cell_type": "code",
   "execution_count": 0,
   "metadata": {
    "application/vnd.databricks.v1+cell": {
     "cellMetadata": {
      "byteLimit": 2048000,
      "rowLimit": 10000
     },
     "inputWidgets": {},
     "nuid": "59c61dc0-1d15-4e4f-80ec-5d89b8dc8ef8",
     "showTitle": false,
     "tableResultSettingsMap": {},
     "title": ""
    }
   },
   "outputs": [],
   "source": [
    "\"\"\"\n",
    "how='all' significa que uma linha será removida  se tiver nulos em todas as linhas \n",
    "how='any' significa que uma linha será removida se ela contiver pelo menos um valor nulo em qualquer uma de suas colunas.\n",
    "obs 'any' é a mesma coisa que df.dropna()\n",
    "\"\"\"\n",
    "display(df.dropna(how='all'))"
   ]
  },
  {
   "cell_type": "code",
   "execution_count": 0,
   "metadata": {
    "application/vnd.databricks.v1+cell": {
     "cellMetadata": {
      "byteLimit": 2048000,
      "rowLimit": 10000
     },
     "inputWidgets": {},
     "nuid": "453b375a-02f1-4244-8cf8-0dda01afaf74",
     "showTitle": false,
     "tableResultSettingsMap": {},
     "title": ""
    }
   },
   "outputs": [],
   "source": [
    "\"\"\"\n",
    "thresh:\n",
    "a linha será mantida se ela tiver pelo menos 30 valores não nulos. Se tiver menos de 30 valores não nulos, a linha será removida.\n",
    "\"\"\"\n",
    "display(df.dropna(thresh=30))"
   ]
  },
  {
   "cell_type": "code",
   "execution_count": 0,
   "metadata": {
    "application/vnd.databricks.v1+cell": {
     "cellMetadata": {
      "byteLimit": 2048000,
      "rowLimit": 10000
     },
     "inputWidgets": {},
     "nuid": "2229ff12-fa8b-46d7-bc8a-a98601e252dc",
     "showTitle": false,
     "tableResultSettingsMap": {},
     "title": ""
    }
   },
   "outputs": [],
   "source": [
    "\"\"\"\n",
    "subset:\n",
    "Por exemplo, se subset=['coluna1', 'coluna2'], se tiverdados nulos nessas colunas de referencia a linha será apagada se nessa coluna nao tiver nulo por mais que as outras tenham os dados nao serao removidos \n",
    "Vamos treinar mais nesses com exemplos \n",
    "\"\"\"\n",
    "\n",
    "display(df.dropna(subset='Aerodromo_de_Origem'))\n"
   ]
  },
  {
   "cell_type": "code",
   "execution_count": 0,
   "metadata": {
    "application/vnd.databricks.v1+cell": {
     "cellMetadata": {
      "byteLimit": 2048000,
      "rowLimit": 10000
     },
     "inputWidgets": {},
     "nuid": "66a615ce-794a-4726-bb6a-2abd60c45a75",
     "showTitle": false,
     "tableResultSettingsMap": {},
     "title": ""
    }
   },
   "outputs": [],
   "source": [
    "display(df.dropna(subset=['Aerodromo_de_Origem','Danos_a_Aeronave']))"
   ]
  },
  {
   "cell_type": "code",
   "execution_count": 0,
   "metadata": {
    "application/vnd.databricks.v1+cell": {
     "cellMetadata": {
      "byteLimit": 2048000,
      "rowLimit": 10000
     },
     "inputWidgets": {},
     "nuid": "b77ab227-d99a-4f91-b531-3318036b56fe",
     "showTitle": false,
     "tableResultSettingsMap": {},
     "title": ""
    }
   },
   "outputs": [],
   "source": [
    "print(df.columns)"
   ]
  },
  {
   "cell_type": "code",
   "execution_count": 0,
   "metadata": {
    "application/vnd.databricks.v1+cell": {
     "cellMetadata": {
      "byteLimit": 2048000,
      "rowLimit": 10000
     },
     "inputWidgets": {},
     "nuid": "0d17833c-cd9e-4331-b37c-2f0a2d5f87e1",
     "showTitle": false,
     "tableResultSettingsMap": {},
     "title": ""
    }
   },
   "outputs": [],
   "source": [
    "colunas_ref=['Regiao','Aerodromo_de_Origem','Municipio','Numero_da_Ocorrencia','Danos_a_Aeronave']\n",
    "display(df.dropna(subset=colunas_ref))"
   ]
  },
  {
   "cell_type": "code",
   "execution_count": 0,
   "metadata": {
    "application/vnd.databricks.v1+cell": {
     "cellMetadata": {
      "byteLimit": 2048000,
      "rowLimit": 10000
     },
     "inputWidgets": {},
     "nuid": "a4960bcb-f16e-4a63-894b-35b795d20934",
     "showTitle": false,
     "tableResultSettingsMap": {},
     "title": ""
    }
   },
   "outputs": [],
   "source": [
    "#Salvando Dados em um novo df\n",
    "\n",
    "df_tratado= df.dropna(subset=['Aerodromo_de_Origem','Danos_a_Aeronave'])\n",
    "display(df_tratado)"
   ]
  },
  {
   "cell_type": "markdown",
   "metadata": {
    "application/vnd.databricks.v1+cell": {
     "cellMetadata": {},
     "inputWidgets": {},
     "nuid": "a99f311b-0481-43c0-91b5-d480dde6d395",
     "showTitle": false,
     "tableResultSettingsMap": {},
     "title": ""
    }
   },
   "source": [
    "######Filtrando dados nulos "
   ]
  },
  {
   "cell_type": "code",
   "execution_count": 0,
   "metadata": {
    "application/vnd.databricks.v1+cell": {
     "cellMetadata": {
      "byteLimit": 2048000,
      "rowLimit": 10000
     },
     "inputWidgets": {},
     "nuid": "8f601e91-b961-4a96-8d61-9be1d29549bd",
     "showTitle": false,
     "tableResultSettingsMap": {},
     "title": ""
    }
   },
   "outputs": [],
   "source": [
    "df = spark.read.json(\"dbfs:/FileStore/tables/Anac/V_OCORRENCIA_AMPLA.json\")\n",
    "display(df)"
   ]
  },
  {
   "cell_type": "code",
   "execution_count": 0,
   "metadata": {
    "application/vnd.databricks.v1+cell": {
     "cellMetadata": {
      "byteLimit": 2048000,
      "rowLimit": 10000
     },
     "inputWidgets": {},
     "nuid": "e9ac8b49-b0fb-4abf-bdbb-6907efb8bcb4",
     "showTitle": false,
     "tableResultSettingsMap": {},
     "title": ""
    }
   },
   "outputs": [],
   "source": [
    "#Filtrando dados nulos \n",
    "display( df.where(df.Aerodromo_de_Destino.isNull()) )"
   ]
  },
  {
   "cell_type": "code",
   "execution_count": 0,
   "metadata": {
    "application/vnd.databricks.v1+cell": {
     "cellMetadata": {
      "byteLimit": 2048000,
      "rowLimit": 10000
     },
     "inputWidgets": {},
     "nuid": "e3c54e06-5147-43ff-bce1-9b1a5a418571",
     "showTitle": false,
     "tableResultSettingsMap": {},
     "title": ""
    }
   },
   "outputs": [],
   "source": [
    "#Filtrando dados nao nulos \n",
    "display( df.where(df.Aerodromo_de_Destino.isNotNull()) )"
   ]
  },
  {
   "cell_type": "code",
   "execution_count": 0,
   "metadata": {
    "application/vnd.databricks.v1+cell": {
     "cellMetadata": {
      "byteLimit": 2048000,
      "rowLimit": 10000
     },
     "inputWidgets": {},
     "nuid": "20b33979-3769-4618-b0fc-1e7edc25e526",
     "showTitle": false,
     "tableResultSettingsMap": {},
     "title": ""
    }
   },
   "outputs": [],
   "source": [
    "#salvando em um novo df\n",
    "destino_nao_nulo = df.where(df.Aerodromo_de_Destino.isNotNull()) \n",
    "display(destino_nao_nulo)"
   ]
  },
  {
   "cell_type": "code",
   "execution_count": 0,
   "metadata": {
    "application/vnd.databricks.v1+cell": {
     "cellMetadata": {
      "byteLimit": 2048000,
      "rowLimit": 10000
     },
     "inputWidgets": {},
     "nuid": "54e022a8-9782-4ec5-989a-c2c9505280c0",
     "showTitle": false,
     "tableResultSettingsMap": {},
     "title": ""
    }
   },
   "outputs": [],
   "source": [
    "# contando nulo em coluna \n",
    "display( df.where(df.Aerodromo_de_Destino.isNull()).count() )"
   ]
  },
  {
   "cell_type": "code",
   "execution_count": 0,
   "metadata": {
    "application/vnd.databricks.v1+cell": {
     "cellMetadata": {
      "byteLimit": 2048000,
      "rowLimit": 10000
     },
     "inputWidgets": {},
     "nuid": "169cf045-c8ad-478d-b661-ff14d8c2c45d",
     "showTitle": false,
     "tableResultSettingsMap": {},
     "title": ""
    }
   },
   "outputs": [],
   "source": [
    "print(df.columns)"
   ]
  },
  {
   "cell_type": "code",
   "execution_count": 0,
   "metadata": {
    "application/vnd.databricks.v1+cell": {
     "cellMetadata": {
      "byteLimit": 2048000,
      "rowLimit": 10000
     },
     "inputWidgets": {},
     "nuid": "1a8054d3-89d0-4467-bc09-cad3bfb133cb",
     "showTitle": false,
     "tableResultSettingsMap": {},
     "title": ""
    }
   },
   "outputs": [],
   "source": [
    "coluna = 'Operacao'\n",
    "display( df.where(df[coluna].isNull()).count() )\n"
   ]
  },
  {
   "cell_type": "code",
   "execution_count": 0,
   "metadata": {
    "application/vnd.databricks.v1+cell": {
     "cellMetadata": {
      "byteLimit": 2048000,
      "rowLimit": 10000
     },
     "inputWidgets": {},
     "nuid": "f944e3d4-4d6b-4394-b301-b8deb890a3ab",
     "showTitle": false,
     "tableResultSettingsMap": {},
     "title": ""
    }
   },
   "outputs": [],
   "source": [
    "\n",
    "lista_contagem_nulos = [(coluna, df.where(df[coluna].isNull()).count()) for coluna in df.columns]\n",
    "display(lista_contagem_nulos)\n"
   ]
  },
  {
   "cell_type": "markdown",
   "metadata": {
    "application/vnd.databricks.v1+cell": {
     "cellMetadata": {},
     "inputWidgets": {},
     "nuid": "98b29315-3c6d-4e6a-bac9-cfce67f1a2d9",
     "showTitle": false,
     "tableResultSettingsMap": {},
     "title": ""
    }
   },
   "source": [
    "######Substituindo dados nulos "
   ]
  },
  {
   "cell_type": "code",
   "execution_count": 0,
   "metadata": {
    "application/vnd.databricks.v1+cell": {
     "cellMetadata": {
      "byteLimit": 2048000,
      "rowLimit": 10000
     },
     "inputWidgets": {},
     "nuid": "dde8fa6f-6152-41f6-b090-85089957ea36",
     "showTitle": false,
     "tableResultSettingsMap": {},
     "title": ""
    }
   },
   "outputs": [],
   "source": [
    "df = spark.read.json(\"dbfs:/FileStore/tables/Anac/V_OCORRENCIA_AMPLA.json\")\n",
    "display(df)"
   ]
  },
  {
   "cell_type": "code",
   "execution_count": 0,
   "metadata": {
    "application/vnd.databricks.v1+cell": {
     "cellMetadata": {
      "byteLimit": 2048000,
      "rowLimit": 10000
     },
     "inputWidgets": {},
     "nuid": "982305ea-057b-4f05-9909-195280f47844",
     "showTitle": false,
     "tableResultSettingsMap": {},
     "title": ""
    }
   },
   "outputs": [],
   "source": [
    "print(df.columns)"
   ]
  },
  {
   "cell_type": "code",
   "execution_count": 0,
   "metadata": {
    "application/vnd.databricks.v1+cell": {
     "cellMetadata": {
      "byteLimit": 2048000,
      "rowLimit": 10000
     },
     "inputWidgets": {},
     "nuid": "f7577a44-8a94-4ee4-a652-c1ec81faa1b9",
     "showTitle": false,
     "tableResultSettingsMap": {},
     "title": ""
    }
   },
   "outputs": [],
   "source": [
    "coluna = 'Aerodromo_de_Origem'\n",
    "display( df.where(df[coluna].isNull()).count() )"
   ]
  },
  {
   "cell_type": "code",
   "execution_count": 0,
   "metadata": {
    "application/vnd.databricks.v1+cell": {
     "cellMetadata": {},
     "inputWidgets": {},
     "nuid": "b4d26204-79bc-4919-8771-f68175adece2",
     "showTitle": false,
     "tableResultSettingsMap": {},
     "title": ""
    }
   },
   "outputs": [],
   "source": [
    "\"\"\"\n",
    "dropna = apagar nulos \n",
    "fillna = Substituir nulo \n",
    "\"\"\""
   ]
  },
  {
   "cell_type": "code",
   "execution_count": 0,
   "metadata": {
    "application/vnd.databricks.v1+cell": {
     "cellMetadata": {
      "byteLimit": 2048000,
      "rowLimit": 10000
     },
     "inputWidgets": {},
     "nuid": "f560b43b-1359-4e3a-a819-ba9db404b661",
     "showTitle": false,
     "tableResultSettingsMap": {},
     "title": ""
    }
   },
   "outputs": [],
   "source": [
    "#Substituindo dados nulos de uma coluna especifica (se nao passar a coluna no  subset ele faz para todas as colunas )\n",
    "display( df.fillna('Sem Origem', subset=['Aerodromo_de_Origem'])  )"
   ]
  },
  {
   "cell_type": "code",
   "execution_count": 0,
   "metadata": {
    "application/vnd.databricks.v1+cell": {
     "cellMetadata": {
      "byteLimit": 2048000,
      "rowLimit": 10000
     },
     "inputWidgets": {},
     "nuid": "3514430e-64c4-45c4-982c-0f494eab3a3e",
     "showTitle": false,
     "tableResultSettingsMap": {},
     "title": ""
    }
   },
   "outputs": [],
   "source": [
    "#obs sem subset = substitui tudos nulos sem criterio \n",
    "display( df.fillna('Sem Origem')  )"
   ]
  },
  {
   "cell_type": "code",
   "execution_count": 0,
   "metadata": {
    "application/vnd.databricks.v1+cell": {
     "cellMetadata": {
      "byteLimit": 2048000,
      "rowLimit": 10000
     },
     "inputWidgets": {},
     "nuid": "7c82da2c-33d6-4691-9ebc-0dc4eb475fab",
     "showTitle": false,
     "tableResultSettingsMap": {},
     "title": ""
    }
   },
   "outputs": [],
   "source": [
    "teste.printSchema()"
   ]
  },
  {
   "cell_type": "code",
   "execution_count": 0,
   "metadata": {
    "application/vnd.databricks.v1+cell": {
     "cellMetadata": {
      "byteLimit": 2048000,
      "rowLimit": 10000
     },
     "inputWidgets": {},
     "nuid": "84668143-0758-4fbc-857c-80885e69f09f",
     "showTitle": false,
     "tableResultSettingsMap": {},
     "title": ""
    }
   },
   "outputs": [],
   "source": [
    "#Substituindo dados nulos de uma coluna especifica\n",
    "teste= df.fillna(\"0\", subset=['Lesoes_Desconhecidas_Passageiros'])\n",
    "display(teste)"
   ]
  },
  {
   "cell_type": "code",
   "execution_count": 0,
   "metadata": {
    "application/vnd.databricks.v1+cell": {
     "cellMetadata": {
      "byteLimit": 2048000,
      "rowLimit": 10000
     },
     "inputWidgets": {},
     "nuid": "2b0ebdeb-c798-4b1c-8791-77a596891d2b",
     "showTitle": false,
     "tableResultSettingsMap": {},
     "title": ""
    }
   },
   "outputs": [],
   "source": [
    "#substitui por 0 em string primeiro e depois converter a coluna pra int\n",
    "teste = teste.withColumn('Lesoes_Desconhecidas_Passageiros', teste.Lesoes_Desconhecidas_Passageiros.cast(\"int\"))\n",
    "display(teste)"
   ]
  },
  {
   "cell_type": "code",
   "execution_count": 0,
   "metadata": {
    "application/vnd.databricks.v1+cell": {
     "cellMetadata": {
      "byteLimit": 2048000,
      "rowLimit": 10000
     },
     "inputWidgets": {},
     "nuid": "56918d92-db86-4ddb-9eb8-b34293c722b3",
     "showTitle": false,
     "tableResultSettingsMap": {},
     "title": ""
    }
   },
   "outputs": [],
   "source": [
    "teste.printSchema()"
   ]
  },
  {
   "cell_type": "code",
   "execution_count": 0,
   "metadata": {
    "application/vnd.databricks.v1+cell": {
     "cellMetadata": {
      "byteLimit": 2048000,
      "rowLimit": 10000
     },
     "inputWidgets": {},
     "nuid": "7bf0baca-4f44-4a5f-89d6-05e0ab98cf0d",
     "showTitle": false,
     "tableResultSettingsMap": {},
     "title": ""
    }
   },
   "outputs": [],
   "source": [
    "# Fazendo Conversoes usando withColumn com fillna\n",
    "novo = df\\\n",
    "    .withColumn(\"Lesoes_Desconhecidas_Terceiros\", df.Lesoes_Desconhecidas_Terceiros.cast(\"int\"))\\\n",
    "    .fillna(0, subset=[\"Lesoes_Desconhecidas_Terceiros\"])\n",
    "display(novo)\n"
   ]
  },
  {
   "cell_type": "markdown",
   "metadata": {
    "application/vnd.databricks.v1+cell": {
     "cellMetadata": {},
     "inputWidgets": {},
     "nuid": "cc0b1aef-03d4-4c4d-a476-e264ea4e01a9",
     "showTitle": false,
     "tableResultSettingsMap": {},
     "title": ""
    }
   },
   "source": [
    "###### Tratando nulos SQL\n"
   ]
  },
  {
   "cell_type": "code",
   "execution_count": 0,
   "metadata": {
    "application/vnd.databricks.v1+cell": {
     "cellMetadata": {
      "byteLimit": 2048000,
      "rowLimit": 10000
     },
     "inputWidgets": {},
     "nuid": "2b2032b5-3817-41c8-883f-b36fe1aca357",
     "showTitle": false,
     "tableResultSettingsMap": {},
     "title": ""
    }
   },
   "outputs": [],
   "source": [
    "df = spark.read.json(\"dbfs:/FileStore/tables/Anac/V_OCORRENCIA_AMPLA.json\")\n",
    "df.createOrReplaceTempView(\"anac\")\n"
   ]
  },
  {
   "cell_type": "code",
   "execution_count": 0,
   "metadata": {
    "application/vnd.databricks.v1+cell": {
     "cellMetadata": {
      "byteLimit": 2048000,
      "implicitDf": true,
      "rowLimit": 10000
     },
     "inputWidgets": {},
     "nuid": "0c28fe25-c9ca-4f2f-97f8-475d762e50d5",
     "showTitle": false,
     "tableResultSettingsMap": {},
     "title": ""
    }
   },
   "outputs": [],
   "source": [
    "%sql\n",
    "select * from anac"
   ]
  },
  {
   "cell_type": "code",
   "execution_count": 0,
   "metadata": {
    "application/vnd.databricks.v1+cell": {
     "cellMetadata": {
      "byteLimit": 2048000,
      "implicitDf": true,
      "rowLimit": 10000
     },
     "inputWidgets": {},
     "nuid": "6722c4f1-43c1-4530-9917-afc6cbb3ea1c",
     "showTitle": false,
     "tableResultSettingsMap": {},
     "title": ""
    }
   },
   "outputs": [],
   "source": [
    "%sql\n",
    "--Comando is null e is not null em filtro \n",
    "select * from anac\n",
    "where Aerodromo_de_Origem is null\n"
   ]
  },
  {
   "cell_type": "code",
   "execution_count": 0,
   "metadata": {
    "application/vnd.databricks.v1+cell": {
     "cellMetadata": {
      "byteLimit": 2048000,
      "implicitDf": true,
      "rowLimit": 10000
     },
     "inputWidgets": {},
     "nuid": "8f5d117d-c080-4908-94a8-278ff6cadbff",
     "showTitle": false,
     "tableResultSettingsMap": {},
     "title": ""
    }
   },
   "outputs": [],
   "source": [
    "%sql\n",
    "-- ver descições da tabela \n",
    "DESCRIBE anac"
   ]
  },
  {
   "cell_type": "code",
   "execution_count": 0,
   "metadata": {
    "application/vnd.databricks.v1+cell": {
     "cellMetadata": {
      "byteLimit": 2048000,
      "implicitDf": true,
      "rowLimit": 10000
     },
     "inputWidgets": {},
     "nuid": "9898749c-0825-4929-8698-39beee3d8bb7",
     "showTitle": false,
     "tableResultSettingsMap": {},
     "title": ""
    }
   },
   "outputs": [],
   "source": [
    "%sql\n",
    "--exibir nome das colunas  \n",
    "SHOW COLUMNS FROM anac\n"
   ]
  },
  {
   "cell_type": "code",
   "execution_count": 0,
   "metadata": {
    "application/vnd.databricks.v1+cell": {
     "cellMetadata": {
      "byteLimit": 2048000,
      "implicitDf": true,
      "rowLimit": 10000
     },
     "inputWidgets": {},
     "nuid": "5bbfbfb3-c5e0-4e5f-a97c-89fbf1a354ba",
     "showTitle": false,
     "tableResultSettingsMap": {},
     "title": ""
    }
   },
   "outputs": [],
   "source": [
    "%sql \n",
    "-- tratando nulos com método coalesce e ifnull \n",
    "select \n",
    "coalesce(Aerodromo_de_Destino,\"Sem Registro\") as Aerodromo_de_Destino\n",
    ",ifnull(Aerodromo_de_Origem,\"Sem Origem\")   Aerodromo_de_Origem\n",
    ",ifnull(CLS, \"Sem Registro\") as CLSTeste\n",
    ",Categoria_da_Aeronave\n",
    ",Danos_a_Aeronave\n",
    ",Data_da_Ocorrencia\n",
    ",UF\n",
    "from anac"
   ]
  },
  {
   "cell_type": "code",
   "execution_count": 0,
   "metadata": {
    "application/vnd.databricks.v1+cell": {
     "cellMetadata": {
      "byteLimit": 2048000,
      "rowLimit": 10000
     },
     "inputWidgets": {},
     "nuid": "30720c28-593c-4d0a-aeec-786d74390978",
     "showTitle": false,
     "tableResultSettingsMap": {},
     "title": ""
    }
   },
   "outputs": [],
   "source": [
    "#Salvando  consulta tratada em um Df novo\n",
    "\n",
    "novodf= spark.sql(\n",
    "\"\"\"\n",
    "select \n",
    "coalesce(Aerodromo_de_Destino,\"Sem Registro\") as Aerodromo_de_Destino\n",
    ",ifnull(Aerodromo_de_Origem,\"Sem Origem\")   Aerodromo_de_Origem\n",
    ",ifnull(CLS, \"Sem Registro\") as CLSTeste\n",
    ",Categoria_da_Aeronave\n",
    ",Danos_a_Aeronave\n",
    ",Data_da_Ocorrencia\n",
    ",UF\n",
    "from anac\n",
    "\"\"\"\n",
    "\n",
    ")\n",
    "\n",
    "display(novodf)"
   ]
  }
 ],
 "metadata": {
  "application/vnd.databricks.v1+notebook": {
   "computePreferences": null,
   "dashboards": [],
   "environmentMetadata": null,
   "inputWidgetPreferences": null,
   "language": "python",
   "notebookMetadata": {
    "mostRecentlyExecutedCommandWithImplicitDF": {
     "commandId": 362620749809941,
     "dataframes": [
      "_sqldf"
     ]
    },
    "pythonIndentUnit": 4
   },
   "notebookName": "13. Tratando Dados nulos",
   "widgets": {}
  }
 },
 "nbformat": 4,
 "nbformat_minor": 0
}